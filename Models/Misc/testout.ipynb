{
 "cells": [
  {
   "cell_type": "code",
   "execution_count": 2,
   "metadata": {},
   "outputs": [
    {
     "name": "stderr",
     "output_type": "stream",
     "text": [
      "/anaconda3/lib/python3.7/site-packages/sklearn/linear_model/logistic.py:433: FutureWarning: Default solver will be changed to 'lbfgs' in 0.22. Specify a solver to silence this warning.\n",
      "  FutureWarning)\n",
      "/anaconda3/lib/python3.7/site-packages/sklearn/linear_model/logistic.py:460: FutureWarning: Default multi_class will be changed to 'auto' in 0.22. Specify the multi_class option to silence this warning.\n",
      "  \"this warning.\", FutureWarning)\n"
     ]
    },
    {
     "name": "stdout",
     "output_type": "stream",
     "text": [
      "Normalized confusion matrix\n",
      "[[0.26 0.   0.05 0.23 0.05 0.15 0.13 0.08 0.05 0.   0.   0.   0.  ]\n",
      " [0.21 0.   0.08 0.31 0.01 0.14 0.08 0.11 0.06 0.   0.   0.   0.  ]\n",
      " [0.02 0.   0.07 0.19 0.08 0.17 0.31 0.12 0.03 0.   0.   0.   0.  ]\n",
      " [0.01 0.   0.08 0.22 0.04 0.21 0.22 0.13 0.1  0.   0.   0.   0.  ]\n",
      " [0.01 0.   0.03 0.16 0.03 0.21 0.28 0.18 0.09 0.   0.   0.   0.  ]\n",
      " [0.   0.   0.02 0.06 0.02 0.17 0.31 0.28 0.13 0.   0.   0.   0.  ]\n",
      " [0.   0.   0.   0.04 0.01 0.09 0.34 0.35 0.16 0.01 0.   0.   0.  ]\n",
      " [0.   0.   0.   0.02 0.   0.07 0.27 0.4  0.23 0.   0.   0.   0.  ]\n",
      " [0.   0.   0.   0.01 0.   0.04 0.18 0.37 0.4  0.   0.   0.   0.  ]\n",
      " [0.   0.   0.   0.   0.   0.05 0.16 0.34 0.45 0.   0.   0.   0.  ]\n",
      " [0.   0.   0.   0.   0.   0.01 0.13 0.27 0.59 0.   0.   0.   0.  ]\n",
      " [0.   0.   0.   0.   0.   0.   0.11 0.18 0.68 0.04 0.   0.   0.  ]\n",
      " [0.   0.   0.   0.   0.   0.05 0.15 0.3  0.5  0.   0.   0.   0.  ]]\n",
      "Precision 0.38\n",
      "Recall 0.36\n",
      "F1 Score 0.37\n",
      "RMSE 19.94\n"
     ]
    }
   ],
   "source": [
    "# Fit Logistic Baseline Model \n",
    "from logisticmodel import logisticmodel\n",
    "y_test, y_test_pred = logisticmodel()\n",
    "\n",
    "# Evaluate Logistic Baseline Model\n",
    "from evaluations import evaluations\n",
    "evaluations(y_test, y_test_pred)"
   ]
  },
  {
   "cell_type": "code",
   "execution_count": 3,
   "metadata": {},
   "outputs": [
    {
     "name": "stderr",
     "output_type": "stream",
     "text": [
      "/anaconda3/lib/python3.7/site-packages/sklearn/linear_model/logistic.py:460: FutureWarning: Default multi_class will be changed to 'auto' in 0.22. Specify the multi_class option to silence this warning.\n",
      "  \"this warning.\", FutureWarning)\n",
      "/anaconda3/lib/python3.7/site-packages/sklearn/linear_model/logistic.py:758: ConvergenceWarning: lbfgs failed to converge. Increase the number of iterations.\n",
      "  \"of iterations.\", ConvergenceWarning)\n",
      "/anaconda3/lib/python3.7/site-packages/sklearn/linear_model/logistic.py:758: ConvergenceWarning: lbfgs failed to converge. Increase the number of iterations.\n",
      "  \"of iterations.\", ConvergenceWarning)\n",
      "/anaconda3/lib/python3.7/site-packages/sklearn/linear_model/logistic.py:758: ConvergenceWarning: lbfgs failed to converge. Increase the number of iterations.\n",
      "  \"of iterations.\", ConvergenceWarning)\n",
      "/anaconda3/lib/python3.7/site-packages/sklearn/linear_model/logistic.py:758: ConvergenceWarning: lbfgs failed to converge. Increase the number of iterations.\n",
      "  \"of iterations.\", ConvergenceWarning)\n",
      "/anaconda3/lib/python3.7/site-packages/sklearn/linear_model/logistic.py:758: ConvergenceWarning: lbfgs failed to converge. Increase the number of iterations.\n",
      "  \"of iterations.\", ConvergenceWarning)\n",
      "/anaconda3/lib/python3.7/site-packages/sklearn/linear_model/logistic.py:758: ConvergenceWarning: lbfgs failed to converge. Increase the number of iterations.\n",
      "  \"of iterations.\", ConvergenceWarning)\n",
      "/anaconda3/lib/python3.7/site-packages/sklearn/linear_model/logistic.py:758: ConvergenceWarning: lbfgs failed to converge. Increase the number of iterations.\n",
      "  \"of iterations.\", ConvergenceWarning)\n",
      "/anaconda3/lib/python3.7/site-packages/sklearn/linear_model/logistic.py:758: ConvergenceWarning: lbfgs failed to converge. Increase the number of iterations.\n",
      "  \"of iterations.\", ConvergenceWarning)\n",
      "/anaconda3/lib/python3.7/site-packages/sklearn/linear_model/logistic.py:758: ConvergenceWarning: lbfgs failed to converge. Increase the number of iterations.\n",
      "  \"of iterations.\", ConvergenceWarning)\n",
      "/anaconda3/lib/python3.7/site-packages/sklearn/linear_model/logistic.py:758: ConvergenceWarning: lbfgs failed to converge. Increase the number of iterations.\n",
      "  \"of iterations.\", ConvergenceWarning)\n",
      "/anaconda3/lib/python3.7/site-packages/sklearn/linear_model/logistic.py:758: ConvergenceWarning: lbfgs failed to converge. Increase the number of iterations.\n",
      "  \"of iterations.\", ConvergenceWarning)\n",
      "/anaconda3/lib/python3.7/site-packages/sklearn/linear_model/logistic.py:758: ConvergenceWarning: lbfgs failed to converge. Increase the number of iterations.\n",
      "  \"of iterations.\", ConvergenceWarning)\n",
      "/anaconda3/lib/python3.7/site-packages/sklearn/linear_model/logistic.py:758: ConvergenceWarning: lbfgs failed to converge. Increase the number of iterations.\n",
      "  \"of iterations.\", ConvergenceWarning)\n"
     ]
    },
    {
     "name": "stdout",
     "output_type": "stream",
     "text": [
      "Normalized confusion matrix\n",
      "[[0.21 0.1  0.1  0.21 0.05 0.21 0.08 0.03 0.   0.03 0.   0.   0.  ]\n",
      " [0.12 0.03 0.12 0.31 0.07 0.15 0.06 0.08 0.04 0.01 0.   0.   0.  ]\n",
      " [0.02 0.   0.06 0.19 0.18 0.29 0.16 0.08 0.02 0.   0.   0.   0.  ]\n",
      " [0.01 0.03 0.06 0.14 0.22 0.15 0.19 0.15 0.04 0.01 0.   0.01 0.  ]\n",
      " [0.01 0.01 0.02 0.14 0.16 0.22 0.22 0.14 0.07 0.02 0.   0.   0.  ]\n",
      " [0.   0.   0.02 0.04 0.1  0.16 0.29 0.26 0.11 0.02 0.   0.   0.  ]\n",
      " [0.   0.   0.   0.02 0.04 0.14 0.31 0.34 0.11 0.03 0.01 0.   0.  ]\n",
      " [0.   0.   0.   0.01 0.03 0.08 0.23 0.39 0.19 0.05 0.01 0.   0.  ]\n",
      " [0.   0.   0.   0.01 0.01 0.06 0.17 0.38 0.29 0.06 0.02 0.   0.  ]\n",
      " [0.   0.   0.   0.   0.   0.05 0.13 0.32 0.35 0.11 0.03 0.   0.  ]\n",
      " [0.   0.   0.   0.   0.   0.   0.13 0.21 0.38 0.16 0.06 0.04 0.02]\n",
      " [0.   0.   0.   0.   0.   0.   0.11 0.19 0.39 0.21 0.05 0.04 0.02]\n",
      " [0.   0.   0.   0.   0.   0.05 0.1  0.25 0.45 0.15 0.   0.   0.  ]]\n",
      "Precision 0.38\n",
      "Recall 0.36\n",
      "F1 Score 0.37\n",
      "RMSE 19.57\n"
     ]
    }
   ],
   "source": [
    "# Fit Logistic Updated Model\n",
    "from logisticmodel2 import logisticmodel_matrixinput\n",
    "y_test, y_test_pred = logisticmodel_matrixinput()\n",
    "\n",
    "# Evaluate Logistic Updated Model\n",
    "from evaluations2 import evaluations\n",
    "evaluations(y_test, y_test_pred)"
   ]
  },
  {
   "cell_type": "code",
   "execution_count": null,
   "metadata": {},
   "outputs": [],
   "source": []
  }
 ],
 "metadata": {
  "kernelspec": {
   "display_name": "Python 3",
   "language": "python",
   "name": "python3"
  },
  "language_info": {
   "codemirror_mode": {
    "name": "ipython",
    "version": 3
   },
   "file_extension": ".py",
   "mimetype": "text/x-python",
   "name": "python",
   "nbconvert_exporter": "python",
   "pygments_lexer": "ipython3",
   "version": "3.7.1"
  }
 },
 "nbformat": 4,
 "nbformat_minor": 2
}
